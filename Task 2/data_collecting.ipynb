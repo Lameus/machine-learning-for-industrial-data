{
 "cells": [
  {
   "cell_type": "code",
   "execution_count": 1,
   "metadata": {},
   "outputs": [],
   "source": [
    "import re\n",
    "import time\n",
    "import pandas as pd\n",
    "from tqdm import tqdm\n",
    "from random import random\n",
    "\n",
    "import os\n",
    "import requests\n",
    "from bs4 import BeautifulSoup\n",
    "from urllib3.util.retry import Retry\n",
    "from requests.adapters import HTTPAdapter"
   ]
  },
  {
   "cell_type": "code",
   "execution_count": 2,
   "metadata": {},
   "outputs": [],
   "source": [
    "films_per_category = 350\n",
    "films_per_page = 50\n",
    "categories = [\n",
    "    \"action\",\n",
    "    \"adventure\",\n",
    "    \"animation\",\n",
    "    \"biography\",\n",
    "    \"comedy\",\n",
    "    \"crime\",\n",
    "    \"documentary\",\n",
    "    \"drama\",\n",
    "    \"family\",\n",
    "    \"fantasy\",\n",
    "    \"film_noir\",\n",
    "    \"history\",\n",
    "    \"horror\",\n",
    "    \"music\",\n",
    "    \"musical\",\n",
    "    \"mystery\",\n",
    "    \"romance\",\n",
    "    \"sci_fi\",\n",
    "    \"short\",\n",
    "    \"sport\",\n",
    "    \"superhero\",\n",
    "    \"thriller\",\n",
    "    \"war\",\n",
    "    \"western\"\n",
    "    ]\n",
    "\n",
    "title_root = 'https://www.imdb.com/title/'\n",
    "genre_root = 'https://www.imdb.com/search/title/?genres='\n",
    "superhero_root = 'https://www.imdb.com/search/keyword/?keywords=superhero&title_type=movie&page='"
   ]
  },
  {
   "cell_type": "code",
   "execution_count": 3,
   "metadata": {},
   "outputs": [],
   "source": [
    "path_to_df = \"./data/raw_data.csv\"\n",
    "path_to_images = \"./data/images/\""
   ]
  },
  {
   "cell_type": "code",
   "execution_count": 5,
   "metadata": {},
   "outputs": [],
   "source": [
    "def get_html(url):\n",
    "    time.sleep(random() * 3)\n",
    "    response = session.get(url, headers= {\"User-Agent\":\"Mozilla/5.0 (X11; U; Linux i686) Gecko/20071127 Firefox/2.0.0.11\", 'Accept-Language': 'en'})\n",
    "    return BeautifulSoup(response.content, 'html.parser')\n",
    "\n",
    "def get_links_to_films(html):\n",
    "    divs = html.findAll(\"div\", {\"class\": \"lister-item-image\"})\n",
    "    a_sub_tags = [div.findAll(\"a\", href=True) for div in divs]\n",
    "    a_tags = [a_tag for nested_list in a_sub_tags for a_tag in nested_list]\n",
    "    hrefs = [tag[\"href\"] for tag in a_tags]\n",
    "    filtered_hrefs = [href for href in hrefs if re.compile(\"^\\/title\\/tt.*\").match(href)]\n",
    "    title_ids = [re.compile(\"tt\\d*\").search(id).group(0) for id in filtered_hrefs]\n",
    "    return title_ids"
   ]
  },
  {
   "cell_type": "code",
   "execution_count": 6,
   "metadata": {},
   "outputs": [],
   "source": [
    "def parse_genre_ids(genre):\n",
    "    unique_ids = []\n",
    "    for i in tqdm(range(1, films_per_category, films_per_page)):\n",
    "        # Superhero is more tag than genre\n",
    "        if genre != \"superhero\":\n",
    "            url = genre_root + genre.lower() + \"&start=\" + str(i)\n",
    "        else:\n",
    "            url = superhero_root + str(i // films_per_page + 1)\n",
    "        html = get_html(url)\n",
    "        unique_ids.extend(get_links_to_films(html))\n",
    "\n",
    "    return unique_ids\n",
    "\n",
    "def parse_film_page(url):\n",
    "    html = get_html(url)\n",
    "    while not str(html.find(\"h1\").contents[0]):\n",
    "        html = get_html(url)\n",
    "    title = str(html.find(\"h1\", {\"class\": \"sc-b73cd867-0\"}).contents[0])\n",
    "    poster_url = str(html.find(\"img\", {\"class\": \"ipc-image\"})[\"src\"]) if html.find(\"img\",\n",
    "                                                                                    {\"class\": \"ipc-image\"}) else \"\"\n",
    "    synopsis = html.find(\"span\", {\"role\": \"presentation\", \"class\": \"sc-16ede01-2\"})\n",
    "    synopsis = str(synopsis.contents[0].string) if synopsis and len(\n",
    "        synopsis.contents) else \"\"\n",
    "    genre = \" \".join([item.contents[0] for item in html.findAll(\"span\", {\"class\": \"ipc-chip__text\"})])\n",
    "    return title, poster_url, synopsis, genre\n",
    "\n",
    "def parse_genre(genre):\n",
    "    title_list = []\n",
    "    poster_url_list = []\n",
    "    synopsis_list = []\n",
    "    genre_list = []\n",
    "    poster_location = []\n",
    "\n",
    "    unique_ids = parse_genre_ids(genre)\n",
    "    print(f\"Collected number films id: {len(unique_ids)}\")\n",
    "    for id in tqdm(unique_ids):\n",
    "        url = title_root + id\n",
    "        title, poster_url, description, labels = parse_film_page(url)\n",
    "\n",
    "        title_list.append(title)\n",
    "        poster_url_list.append(poster_url)\n",
    "        synopsis_list.append(description)\n",
    "        genre_list.append(labels)\n",
    "\n",
    "        if poster_url:\n",
    "            poster_response = session.get(poster_url)\n",
    "            if poster_response.status_code == 200:\n",
    "                path_to_save = path_to_images + genre + \"/\" + re.sub(\"\\\\W\", \"_\", title.casefold()) + \".jpg\"\n",
    "                os.makedirs(os.path.dirname(path_to_save), exist_ok=True)\n",
    "                with open(path_to_save, 'w+b') as f:\n",
    "                    f.write(poster_response.content)\n",
    "                    poster_location.append(path_to_save)\n",
    "            else:\n",
    "                print(f\"{poster_response}. Urs: {url}\")\n",
    "        else:\n",
    "            poster_location.append(' ')\n",
    "\n",
    "    return title_list, poster_url_list, synopsis_list, genre_list, poster_location"
   ]
  },
  {
   "cell_type": "code",
   "execution_count": null,
   "metadata": {},
   "outputs": [],
   "source": [
    "session = requests.Session()\n",
    "retry = Retry(connect=5, backoff_factor=1)\n",
    "adapter = HTTPAdapter(max_retries=retry)\n",
    "session.mount('http://', adapter)\n",
    "session.mount('https://', adapter)"
   ]
  },
  {
   "cell_type": "code",
   "execution_count": 8,
   "metadata": {},
   "outputs": [
    {
     "name": "stderr",
     "output_type": "stream",
     "text": [
      "  0%|          | 0/16 [00:00<?, ?it/s]"
     ]
    },
    {
     "name": "stdout",
     "output_type": "stream",
     "text": [
      "Process genre: family\n"
     ]
    },
    {
     "name": "stderr",
     "output_type": "stream",
     "text": [
      "100%|██████████| 7/7 [00:19<00:00,  2.83s/it]\n"
     ]
    },
    {
     "name": "stdout",
     "output_type": "stream",
     "text": [
      "Collected number films id: 350\n"
     ]
    },
    {
     "name": "stderr",
     "output_type": "stream",
     "text": [
      "100%|██████████| 350/350 [19:18<00:00,  3.31s/it]\n",
      "  6%|▋         | 1/16 [19:38<4:54:37, 1178.52s/it]"
     ]
    },
    {
     "name": "stdout",
     "output_type": "stream",
     "text": [
      "Process genre: fantasy\n"
     ]
    },
    {
     "name": "stderr",
     "output_type": "stream",
     "text": [
      "100%|██████████| 7/7 [00:17<00:00,  2.54s/it]\n"
     ]
    },
    {
     "name": "stdout",
     "output_type": "stream",
     "text": [
      "Collected number films id: 350\n"
     ]
    },
    {
     "name": "stderr",
     "output_type": "stream",
     "text": [
      "100%|██████████| 350/350 [19:25<00:00,  3.33s/it]\n",
      " 12%|█▎        | 2/16 [39:22<4:35:40, 1181.48s/it]"
     ]
    },
    {
     "name": "stdout",
     "output_type": "stream",
     "text": [
      "Process genre: film_noir\n"
     ]
    },
    {
     "name": "stderr",
     "output_type": "stream",
     "text": [
      "100%|██████████| 7/7 [00:21<00:00,  3.03s/it]\n"
     ]
    },
    {
     "name": "stdout",
     "output_type": "stream",
     "text": [
      "Collected number films id: 350\n"
     ]
    },
    {
     "name": "stderr",
     "output_type": "stream",
     "text": [
      "100%|██████████| 350/350 [20:11<00:00,  3.46s/it]\n",
      " 19%|█▉        | 3/16 [59:55<4:21:05, 1205.07s/it]"
     ]
    },
    {
     "name": "stdout",
     "output_type": "stream",
     "text": [
      "Process genre: history\n"
     ]
    },
    {
     "name": "stderr",
     "output_type": "stream",
     "text": [
      "100%|██████████| 7/7 [00:22<00:00,  3.28s/it]\n"
     ]
    },
    {
     "name": "stdout",
     "output_type": "stream",
     "text": [
      "Collected number films id: 350\n"
     ]
    },
    {
     "name": "stderr",
     "output_type": "stream",
     "text": [
      "100%|██████████| 350/350 [19:44<00:00,  3.39s/it]\n",
      " 25%|██▌       | 4/16 [1:20:02<4:01:13, 1206.13s/it]"
     ]
    },
    {
     "name": "stdout",
     "output_type": "stream",
     "text": [
      "Process genre: horror\n"
     ]
    },
    {
     "name": "stderr",
     "output_type": "stream",
     "text": [
      "100%|██████████| 7/7 [00:22<00:00,  3.22s/it]\n"
     ]
    },
    {
     "name": "stdout",
     "output_type": "stream",
     "text": [
      "Collected number films id: 350\n"
     ]
    },
    {
     "name": "stderr",
     "output_type": "stream",
     "text": [
      "100%|██████████| 350/350 [19:44<00:00,  3.38s/it]\n",
      " 31%|███▏      | 5/16 [1:40:09<3:41:09, 1206.35s/it]"
     ]
    },
    {
     "name": "stdout",
     "output_type": "stream",
     "text": [
      "Process genre: music\n"
     ]
    },
    {
     "name": "stderr",
     "output_type": "stream",
     "text": [
      "100%|██████████| 7/7 [00:18<00:00,  2.70s/it]\n"
     ]
    },
    {
     "name": "stdout",
     "output_type": "stream",
     "text": [
      "Collected number films id: 350\n"
     ]
    },
    {
     "name": "stderr",
     "output_type": "stream",
     "text": [
      "100%|██████████| 350/350 [20:32<00:00,  3.52s/it]\n",
      " 38%|███▊      | 6/16 [2:01:00<3:23:36, 1221.61s/it]"
     ]
    },
    {
     "name": "stdout",
     "output_type": "stream",
     "text": [
      "Process genre: musical\n"
     ]
    },
    {
     "name": "stderr",
     "output_type": "stream",
     "text": [
      "100%|██████████| 7/7 [00:20<00:00,  2.98s/it]\n"
     ]
    },
    {
     "name": "stdout",
     "output_type": "stream",
     "text": [
      "Collected number films id: 350\n"
     ]
    },
    {
     "name": "stderr",
     "output_type": "stream",
     "text": [
      "100%|██████████| 350/350 [19:59<00:00,  3.43s/it]\n",
      " 44%|████▍     | 7/16 [2:21:20<3:03:09, 1221.06s/it]"
     ]
    },
    {
     "name": "stdout",
     "output_type": "stream",
     "text": [
      "Process genre: mystery\n"
     ]
    },
    {
     "name": "stderr",
     "output_type": "stream",
     "text": [
      "100%|██████████| 7/7 [00:19<00:00,  2.74s/it]\n"
     ]
    },
    {
     "name": "stdout",
     "output_type": "stream",
     "text": [
      "Collected number films id: 350\n"
     ]
    },
    {
     "name": "stderr",
     "output_type": "stream",
     "text": [
      "100%|██████████| 350/350 [20:29<00:00,  3.51s/it]\n",
      " 50%|█████     | 8/16 [2:42:09<2:43:58, 1229.84s/it]"
     ]
    },
    {
     "name": "stdout",
     "output_type": "stream",
     "text": [
      "Process genre: romance\n"
     ]
    },
    {
     "name": "stderr",
     "output_type": "stream",
     "text": [
      "100%|██████████| 7/7 [00:24<00:00,  3.52s/it]\n"
     ]
    },
    {
     "name": "stdout",
     "output_type": "stream",
     "text": [
      "Collected number films id: 350\n"
     ]
    },
    {
     "name": "stderr",
     "output_type": "stream",
     "text": [
      "100%|██████████| 350/350 [19:55<00:00,  3.42s/it]\n",
      " 56%|█████▋    | 9/16 [3:02:29<2:23:08, 1226.89s/it]"
     ]
    },
    {
     "name": "stdout",
     "output_type": "stream",
     "text": [
      "Process genre: sci_fi\n"
     ]
    },
    {
     "name": "stderr",
     "output_type": "stream",
     "text": [
      "100%|██████████| 7/7 [00:15<00:00,  2.20s/it]\n"
     ]
    },
    {
     "name": "stdout",
     "output_type": "stream",
     "text": [
      "Collected number films id: 350\n"
     ]
    },
    {
     "name": "stderr",
     "output_type": "stream",
     "text": [
      "100%|██████████| 350/350 [19:32<00:00,  3.35s/it]\n",
      " 62%|██████▎   | 10/16 [3:22:18<2:01:30, 1215.01s/it]"
     ]
    },
    {
     "name": "stdout",
     "output_type": "stream",
     "text": [
      "Process genre: short\n"
     ]
    },
    {
     "name": "stderr",
     "output_type": "stream",
     "text": [
      "100%|██████████| 7/7 [00:20<00:00,  2.87s/it]\n"
     ]
    },
    {
     "name": "stdout",
     "output_type": "stream",
     "text": [
      "Collected number films id: 350\n"
     ]
    },
    {
     "name": "stderr",
     "output_type": "stream",
     "text": [
      "100%|██████████| 350/350 [19:27<00:00,  3.34s/it]\n",
      " 69%|██████▉   | 11/16 [3:42:06<1:40:33, 1206.66s/it]"
     ]
    },
    {
     "name": "stdout",
     "output_type": "stream",
     "text": [
      "Process genre: sport\n"
     ]
    },
    {
     "name": "stderr",
     "output_type": "stream",
     "text": [
      "100%|██████████| 7/7 [00:19<00:00,  2.81s/it]\n"
     ]
    },
    {
     "name": "stdout",
     "output_type": "stream",
     "text": [
      "Collected number films id: 350\n"
     ]
    },
    {
     "name": "stderr",
     "output_type": "stream",
     "text": [
      "100%|██████████| 350/350 [20:09<00:00,  3.45s/it]\n",
      " 75%|███████▌  | 12/16 [4:02:34<1:20:53, 1213.40s/it]"
     ]
    },
    {
     "name": "stdout",
     "output_type": "stream",
     "text": [
      "Process genre: superhero\n"
     ]
    },
    {
     "name": "stderr",
     "output_type": "stream",
     "text": [
      "100%|██████████| 7/7 [00:27<00:00,  3.91s/it]\n"
     ]
    },
    {
     "name": "stdout",
     "output_type": "stream",
     "text": [
      "Collected number films id: 350\n"
     ]
    },
    {
     "name": "stderr",
     "output_type": "stream",
     "text": [
      "100%|██████████| 350/350 [19:19<00:00,  3.31s/it]\n",
      " 81%|████████▏ | 13/16 [4:22:21<1:00:16, 1205.35s/it]"
     ]
    },
    {
     "name": "stdout",
     "output_type": "stream",
     "text": [
      "Process genre: thriller\n"
     ]
    },
    {
     "name": "stderr",
     "output_type": "stream",
     "text": [
      "100%|██████████| 7/7 [00:19<00:00,  2.81s/it]\n"
     ]
    },
    {
     "name": "stdout",
     "output_type": "stream",
     "text": [
      "Collected number films id: 350\n"
     ]
    },
    {
     "name": "stderr",
     "output_type": "stream",
     "text": [
      "100%|██████████| 350/350 [19:08<00:00,  3.28s/it]\n",
      " 88%|████████▊ | 14/16 [4:41:50<39:48, 1194.25s/it]  "
     ]
    },
    {
     "name": "stdout",
     "output_type": "stream",
     "text": [
      "Process genre: war\n"
     ]
    },
    {
     "name": "stderr",
     "output_type": "stream",
     "text": [
      "100%|██████████| 7/7 [00:19<00:00,  2.80s/it]\n"
     ]
    },
    {
     "name": "stdout",
     "output_type": "stream",
     "text": [
      "Collected number films id: 350\n"
     ]
    },
    {
     "name": "stderr",
     "output_type": "stream",
     "text": [
      "100%|██████████| 350/350 [19:03<00:00,  3.27s/it]\n",
      " 94%|█████████▍| 15/16 [5:01:13<19:44, 1184.78s/it]"
     ]
    },
    {
     "name": "stdout",
     "output_type": "stream",
     "text": [
      "Process genre: western\n"
     ]
    },
    {
     "name": "stderr",
     "output_type": "stream",
     "text": [
      "100%|██████████| 7/7 [00:22<00:00,  3.18s/it]\n"
     ]
    },
    {
     "name": "stdout",
     "output_type": "stream",
     "text": [
      "Collected number films id: 350\n"
     ]
    },
    {
     "name": "stderr",
     "output_type": "stream",
     "text": [
      "100%|██████████| 350/350 [19:42<00:00,  3.38s/it]\n",
      "100%|██████████| 16/16 [5:21:17<00:00, 1204.85s/it]\n"
     ]
    }
   ],
   "source": [
    "title_list = []\n",
    "genre_list = []\n",
    "synopsis_list = []\n",
    "poster_url_list = []\n",
    "poster_location_list = []\n",
    "with_sub_genre_list = []\n",
    "\n",
    "for genre in tqdm(categories):\n",
    "    print(f\"Process genre: {genre}\")\n",
    "    genre_title_list, genre_poster_url_list, genre_synopsis_list, genre_cats_list, genre_poster_location = parse_genre(genre)\n",
    "    title_list.extend(genre_title_list)\n",
    "    poster_url_list.extend(genre_poster_url_list)\n",
    "    synopsis_list.extend(genre_synopsis_list)\n",
    "    genre_list.extend([genre] * len(genre_cats_list))\n",
    "    poster_location_list.extend(genre_poster_location)\n",
    "    with_sub_genre_list.extend(genre_cats_list)\n",
    "\n",
    "\n",
    "df = pd.DataFrame({\n",
    "                \"title\": title_list,\n",
    "                \"poster_url\": poster_url_list,\n",
    "                \"synopsis\": synopsis_list,\n",
    "                \"genre\": genre_list,\n",
    "                \"poster_location\": poster_location_list\n",
    "                })\n",
    "\n",
    "df.to_csv(path_to_df, index=False)\n"
   ]
  }
 ],
 "metadata": {
  "kernelspec": {
   "display_name": "Python 3.9.12 64-bit",
   "language": "python",
   "name": "python3"
  },
  "language_info": {
   "codemirror_mode": {
    "name": "ipython",
    "version": 3
   },
   "file_extension": ".py",
   "mimetype": "text/x-python",
   "name": "python",
   "nbconvert_exporter": "python",
   "pygments_lexer": "ipython3",
   "version": "3.9.12"
  },
  "orig_nbformat": 4,
  "vscode": {
   "interpreter": {
    "hash": "663705c0908fe664a601e3c9ea1b0cb3da704034f4b6da907aad9bdb26ad2a1d"
   }
  }
 },
 "nbformat": 4,
 "nbformat_minor": 2
}
